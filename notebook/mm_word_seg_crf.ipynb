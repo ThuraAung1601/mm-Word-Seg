{
  "cells": [
    {
      "cell_type": "code",
      "execution_count": null,
      "metadata": {
        "colab": {
          "base_uri": "https://localhost:8080/"
        },
        "id": "VvljLqZJ3_9z",
        "outputId": "cdfe2fea-afb2-4612-906a-4067cae54d24"
      },
      "outputs": [
        {
          "name": "stdout",
          "output_type": "stream",
          "text": [
            "Looking in indexes: https://pypi.org/simple, https://us-python.pkg.dev/colab-wheels/public/simple/\n",
            "Collecting python-crfsuite\n",
            "  Downloading python_crfsuite-0.9.8-cp37-cp37m-manylinux_2_17_x86_64.manylinux2014_x86_64.whl (965 kB)\n",
            "\u001b[K     |████████████████████████████████| 965 kB 13.6 MB/s \n",
            "\u001b[?25hInstalling collected packages: python-crfsuite\n",
            "Successfully installed python-crfsuite-0.9.8\n"
          ]
        }
      ],
      "source": [
        "!pip install python-crfsuite"
      ]
    },
    {
      "cell_type": "code",
      "execution_count": null,
      "metadata": {
        "id": "1nWwZVyu4fPi"
      },
      "outputs": [],
      "source": [
        "from bs4 import BeautifulSoup\n",
        "from urllib.request import urlopen, HTTPError\n",
        "import pycrfsuite"
      ]
    },
    {
      "cell_type": "code",
      "execution_count": null,
      "metadata": {
        "id": "ka8RXGxO4g2K"
      },
      "outputs": [],
      "source": [
        "#sentences list for Bangali data\n",
        "sentences = list()\n",
        "with open(\"/content/mypos_rmtag.txt\") as f:\n",
        "    sentences = f.readlines()\n",
        "#Remove whitespace characters like `\\n` at the end of each line\n",
        "sentences = [x.strip() for x in sentences]"
      ]
    },
    {
      "cell_type": "code",
      "execution_count": null,
      "metadata": {
        "colab": {
          "base_uri": "https://localhost:8080/"
        },
        "id": "u0wbyL_i76Y8",
        "outputId": "e2140bf2-3f12-43c6-87e3-7ff3c5bcbbf3"
      },
      "outputs": [
        {
          "data": {
            "text/plain": [
              "43196"
            ]
          },
          "execution_count": 58,
          "metadata": {},
          "output_type": "execute_result"
        }
      ],
      "source": [
        "len(sentences)"
      ]
    },
    {
      "cell_type": "code",
      "execution_count": null,
      "metadata": {
        "id": "Xad3Umhz78On"
      },
      "outputs": [],
      "source": [
        "sentences = [s for s in sentences if len(s) > 5] # remove very short \"sentences\""
      ]
    },
    {
      "cell_type": "code",
      "execution_count": null,
      "metadata": {
        "colab": {
          "base_uri": "https://localhost:8080/"
        },
        "id": "Em31KPuU8HE4",
        "outputId": "1ba8dbe2-e057-4ece-e93b-bdfd404255c3"
      },
      "outputs": [
        {
          "data": {
            "text/plain": [
              "43148"
            ]
          },
          "execution_count": 60,
          "metadata": {},
          "output_type": "execute_result"
        }
      ],
      "source": [
        "len(sentences)"
      ]
    },
    {
      "cell_type": "code",
      "execution_count": null,
      "metadata": {
        "colab": {
          "base_uri": "https://localhost:8080/"
        },
        "id": "knBAvNvg8I2R",
        "outputId": "01eda69b-f7b7-4113-deb8-84eb8ab36bb9"
      },
      "outputs": [
        {
          "name": "stdout",
          "output_type": "stream",
          "text": [
            "ဪ ၊ အခန်း နံပါတ် ၃၀၅ မှာ တည်း လို့ ရ ပါ တယ် ။ အေးအေးဆေးဆေး ရှိ ပါ တယ် ။\n"
          ]
        },
        {
          "data": {
            "text/plain": [
              "(None, 43148)"
            ]
          },
          "execution_count": 61,
          "metadata": {},
          "output_type": "execute_result"
        }
      ],
      "source": [
        "print(sentences[200]),len(sentences),"
      ]
    },
    {
      "cell_type": "code",
      "execution_count": null,
      "metadata": {
        "colab": {
          "base_uri": "https://localhost:8080/"
        },
        "id": "QlNN0MkO8OYM",
        "outputId": "24ca63e1-4b10-40b3-fd52-b298c4d13466"
      },
      "outputs": [
        {
          "name": "stdout",
          "output_type": "stream",
          "text": [
            "[('ဪ', 0), ('၊', 1), ('အ', 1), ('ခ', 0), ('န', 0), ('်', 0), ('း', 0), ('န', 1), ('ံ', 0), ('ပ', 0), ('ါ', 0), ('တ', 0), ('်', 0), ('၃', 1), ('၀', 0), ('၅', 0), ('မ', 1), ('ှ', 0), ('ာ', 0), ('တ', 1), ('ည', 0), ('်', 0), ('း', 0), ('လ', 1), ('ိ', 0), ('ု', 0), ('့', 0), ('ရ', 1), ('ပ', 1), ('ါ', 0), ('တ', 1), ('ယ', 0), ('်', 0), ('။', 1), ('အ', 1), ('ေ', 0), ('း', 0), ('အ', 0), ('ေ', 0), ('း', 0), ('ဆ', 0), ('ေ', 0), ('း', 0), ('ဆ', 0), ('ေ', 0), ('း', 0), ('ရ', 1), ('ှ', 0), ('ိ', 0), ('ပ', 1), ('ါ', 0), ('တ', 1), ('ယ', 0), ('်', 0), ('။', 1)]\n"
          ]
        }
      ],
      "source": [
        "prepared_sentences = list()\n",
        "#apply loop on sentences list to select one sentence\n",
        "for sentence in sentences:\n",
        "    #create a list lengths that have length of every word in sentence\n",
        "    lengths = [len(w) for w in sentence.split(\" \")]\n",
        "    positions = []\n",
        "\n",
        "    next_pos = 0\n",
        "    #apply loop on 'lengths' list to select one word length\n",
        "    for length in lengths:\n",
        "        #set next position to next word\n",
        "        next_pos = next_pos + length\n",
        "        #append every word position to positions list\n",
        "        positions.append(next_pos)\n",
        "    #remove white spaces from 'sentence' and make one single string and store in 'concatenated' \n",
        "    concatenated = sentence.replace(\" \", \"\")\n",
        "    #take every character from 'concatenated' string variable and store in 'chars' list\n",
        "    chars = [c for c in concatenated]\n",
        "    #generate labels for every character if it is at starting position then 1 else 0 \n",
        "    labels = [0 if not i in positions else 1 for i, c in enumerate(concatenated)]\n",
        "    #add every character with there labels into list 'prepared_sentences'\n",
        "    prepared_sentences.append(list(zip(chars, labels)))\n",
        "    \n",
        "    \n",
        "print([d for d in prepared_sentences[200]])"
      ]
    },
    {
      "cell_type": "code",
      "execution_count": null,
      "metadata": {
        "id": "RDbvp9Q88YON"
      },
      "outputs": [],
      "source": [
        "#here sentence is prepared_sentence and i is length of prepared_sentence\n",
        "def create_char_features(sentence, i):\n",
        "    #set initial feature set char as first char in prepared_sentence\n",
        "    features = [\n",
        "        'bias',\n",
        "        'char=' + sentence[i][0] \n",
        "    ]\n",
        "    #if i >=1 then go to previous character else append 'BOS' in features list \n",
        "    if i >= 1:\n",
        "        features.extend([\n",
        "            'char-1=' + sentence[i-1][0],\n",
        "            'char-1:0=' + sentence[i-1][0] + sentence[i][0],\n",
        "        ])\n",
        "    else:\n",
        "        features.append(\"BOS\")\n",
        "        \n",
        "    if i >= 2:\n",
        "        features.extend([\n",
        "            'char-2=' + sentence[i-2][0],\n",
        "            'char-2:0=' + sentence[i-2][0] + sentence[i-1][0] + sentence[i][0],\n",
        "            'char-2:-1=' + sentence[i-2][0] + sentence[i-1][0],\n",
        "        ])\n",
        "        \n",
        "    if i >= 3:\n",
        "        features.extend([\n",
        "            'char-3:0=' + sentence[i-3][0] + sentence[i-2][0] + sentence[i-1][0] + sentence[i][0],\n",
        "            'char-3:-1=' + sentence[i-3][0] + sentence[i-2][0] + sentence[i-1][0],\n",
        "        ])\n",
        "    #if i+1 < len(sentence) then go to next character and set it to next character and set char to next two characters else append 'EOS' to features list\n",
        "    if i + 1 < len(sentence):\n",
        "        features.extend([\n",
        "            'char+1=' + sentence[i+1][0],\n",
        "            'char:+1=' + sentence[i][0] + sentence[i+1][0],\n",
        "        ])\n",
        "    else:\n",
        "        features.append(\"EOS\")\n",
        "    #if first if condition satisfy then go to second and third if condition and do the same work for next characters    \n",
        "    if i + 2 < len(sentence):\n",
        "        features.extend([\n",
        "            'char+2=' + sentence[i+2][0],\n",
        "            'char:+2=' + sentence[i][0] + sentence[i+1][0] + sentence[i+2][0],\n",
        "            'char+1:+2=' + sentence[i+1][0] + sentence[i+2][0],\n",
        "        ])\n",
        "    \n",
        "    if i + 3 < len(sentence):\n",
        "        features.extend([\n",
        "            'char:+3=' + sentence[i][0] + sentence[i+1][0] + sentence[i+2][0]+ sentence[i+3][0],\n",
        "            'char+1:+3=' + sentence[i+1][0] + sentence[i+2][0] + sentence[i+3][0],\n",
        "        ])\n",
        "    return features\n",
        "\n",
        "\n",
        "\n",
        "def create_sentence_features(prepared_sentence):\n",
        "    return [create_char_features(prepared_sentence, i) for i in range(len(prepared_sentence))]\n",
        "\n",
        "def create_sentence_labels(prepared_sentence):\n",
        "    return [str(part[1]) for part in prepared_sentence]"
      ]
    },
    {
      "cell_type": "code",
      "execution_count": null,
      "metadata": {
        "colab": {
          "base_uri": "https://localhost:8080/"
        },
        "id": "gl_19vmj8cbG",
        "outputId": "d6a58044-e9be-484f-ae31-db3dea492f15"
      },
      "outputs": [
        {
          "data": {
            "text/plain": [
              "43148"
            ]
          },
          "execution_count": 64,
          "metadata": {},
          "output_type": "execute_result"
        }
      ],
      "source": [
        "len(prepared_sentences)"
      ]
    },
    {
      "cell_type": "code",
      "execution_count": null,
      "metadata": {
        "id": "3qV6ZaU-8fFD"
      },
      "outputs": [],
      "source": [
        "#X list for training model with sentence features \n",
        "X = [create_sentence_features(ps) for ps in prepared_sentences[:-20000]]\n",
        "#y list for training model with sentence labels(0 or 1) \n",
        "y = [create_sentence_labels(ps)   for ps in prepared_sentences[:-20000]]\n",
        "\n",
        "#X_test list for testing model with sentence features \n",
        "X_test = [create_sentence_features(ps) for ps in prepared_sentences[-2173:]]\n",
        "#y_test list for testing model with sentence labels(0 or 1) \n",
        "y_test = [create_sentence_labels(ps)   for ps in prepared_sentences[-2173:]]"
      ]
    },
    {
      "cell_type": "code",
      "execution_count": null,
      "metadata": {
        "colab": {
          "base_uri": "https://localhost:8080/"
        },
        "id": "Be4GZbU_8hnP",
        "outputId": "24700a14-82d8-4b93-b0fe-12dfad398743"
      },
      "outputs": [
        {
          "data": {
            "text/plain": [
              "(23148, 23148, 2173, 2173)"
            ]
          },
          "execution_count": 66,
          "metadata": {},
          "output_type": "execute_result"
        }
      ],
      "source": [
        "len(X),len(y),len(X_test),len(y_test)"
      ]
    },
    {
      "cell_type": "code",
      "execution_count": null,
      "metadata": {
        "id": "safEjGMS8x4A"
      },
      "outputs": [],
      "source": [
        "trainer = pycrfsuite.Trainer(verbose=False)\n",
        "\n",
        "for xseq, yseq in zip(X, y):\n",
        "    trainer.append(xseq, yseq)"
      ]
    },
    {
      "cell_type": "code",
      "execution_count": null,
      "metadata": {
        "id": "zxRQZWJh810Z"
      },
      "outputs": [],
      "source": [
        "trainer.set_params({\n",
        "    'c1': 1.0, \n",
        "    'c2': 1e-3,\n",
        "    'max_iterations': 500,\n",
        "    'feature.possible_transitions': True\n",
        "})"
      ]
    },
    {
      "cell_type": "code",
      "execution_count": null,
      "metadata": {
        "colab": {
          "background_save": true
        },
        "id": "N4_iokTV9OR4"
      },
      "outputs": [],
      "source": [
        "#training model \n",
        "trainer.train('mm-word-segmentation-500.crfsuite')"
      ]
    },
    {
      "cell_type": "code",
      "execution_count": null,
      "metadata": {
        "colab": {
          "background_save": true
        },
        "id": "va2RNORp9Rwj",
        "outputId": "842e056a-8cb4-487a-a74a-0ea34ea35d28"
      },
      "outputs": [
        {
          "data": {
            "text/plain": [
              "<contextlib.closing at 0x7fb5521c1090>"
            ]
          },
          "execution_count": null,
          "metadata": {},
          "output_type": "execute_result"
        }
      ],
      "source": [
        "#open trained model\n",
        "tagger = pycrfsuite.Tagger()\n",
        "tagger.open('mm-word-segmentation-500.crfsuite')"
      ]
    },
    {
      "cell_type": "code",
      "execution_count": null,
      "metadata": {
        "colab": {
          "background_save": true
        },
        "id": "EZh7SbiZ9Zfw"
      },
      "outputs": [],
      "source": [
        "#segment sentence or word by trained model\n",
        "def segment_sentence(sentence):\n",
        "    #remove white spaces from sentence\n",
        "    sent = sentence.replace(\" \", \"\")\n",
        "    #tag sentence by trained model or create sentence features \n",
        "    prediction = tagger.tag(create_sentence_features(sent))\n",
        "    #assign 'complete' to empty string \n",
        "    complete = \"\"\n",
        "    #apply for loop on taged sentence\n",
        "    for i, p in enumerate(prediction):\n",
        "        #if label of character in sentence is 1 then brack that word from that place and add into complete\n",
        "        if p == \"1\":\n",
        "            complete += \" \" + sent[i]\n",
        "        #if label of character in sentence is 0 then add that word as it is into complete\n",
        "        else:\n",
        "            complete += sent[i]\n",
        "    return complete"
      ]
    },
    {
      "cell_type": "code",
      "execution_count": null,
      "metadata": {
        "colab": {
          "background_save": true
        },
        "id": "KIaDkwTp9aeB",
        "outputId": "10685d81-a852-43d3-fe69-e089ce87c301"
      },
      "outputs": [
        {
          "data": {
            "text/plain": [
              "('မိုးရွာ ထား လို့ အခန်း ထဲ မှာ စိုထိုင်း ထိုင်း ဖြစ် နေ တယ်',\n",
              " 'မိုးရွာထားလို့အခန်းထဲမှာစိုထိုင်းထိုင်းဖြစ်နေတယ်')"
            ]
          },
          "execution_count": null,
          "metadata": {},
          "output_type": "execute_result"
        }
      ],
      "source": [
        "#for check our model\n",
        "sentence = \"မိုးရွာထားလို့အခန်းထဲမှာစိုထိုင်းထိုင်းဖြစ်နေတယ်\"\n",
        "prediction = tagger.tag(create_sentence_features(sentence))\n",
        "complete = \"\"\n",
        "for i, p in enumerate(prediction):\n",
        "  if p == \"1\":\n",
        "    complete += \" \" + sentence[i]\n",
        "  else:\n",
        "    complete += sentence[i]\n",
        "complete,sentence"
      ]
    },
    {
      "cell_type": "code",
      "execution_count": null,
      "metadata": {
        "colab": {
          "background_save": true
        },
        "id": "k-L_Jjkr-YFD",
        "outputId": "357506d9-81d5-442a-d2db-b47fe18357a0"
      },
      "outputs": [
        {
          "name": "stdout",
          "output_type": "stream",
          "text": [
            "ဒီ နေ့ ကမ္ဘာ့ စံချိန် သစ်တင် ခဲ့ တယ် ။\n",
            "အဲဒီ ပစ္စည်း က ကုန်တိုက် မှာ တွေ့ တဲ့ ဟာ ကို ပုံစံ ယူ လုပ် ထား တာ ။\n"
          ]
        }
      ],
      "source": [
        "#print Segmented sentences or Segmented words\n",
        "print(segment_sentence(\"ဒီနေ့ကမ္ဘာ့စံချိန်သစ်တင်ခဲ့တယ်။\"))\n",
        "print(segment_sentence(\"အဲဒီပစ္စည်းကကုန်တိုက်မှာတွေ့တဲ့ဟာကိုပုံစံယူလုပ်ထားတာ။\"))"
      ]
    },
    {
      "cell_type": "code",
      "execution_count": null,
      "metadata": {
        "colab": {
          "background_save": true
        },
        "id": "RgwnHlHP-5b_"
      },
      "outputs": [],
      "source": [
        "#use this if you want to convert whole text file into segmented text file that store in 'output.txt' file\n",
        "outF = open(\"/content/output.txt\", \"w\")\n",
        "\n",
        "with open('validation.txt','r') as f:\n",
        "  for line in f:\n",
        "    l1 = \"\"\n",
        "    l2 = \"\"\n",
        "    if len(line)<=5:\n",
        "      l1=line\n",
        "      #outF.write(line)\n",
        "      outF.write(l1)\n",
        "    else:\n",
        "      seg = segment_sentence(line)\n",
        "      l2 = seg\n",
        "      outF.write(l2)"
      ]
    },
    {
      "cell_type": "code",
      "execution_count": 78,
      "metadata": {
        "colab": {
          "base_uri": "https://localhost:8080/"
        },
        "id": "JLbjmASMAOpw",
        "outputId": "b5102b11-e776-418a-de20-f938bd0e1ead"
      },
      "outputs": [
        {
          "output_type": "execute_result",
          "data": {
            "text/plain": [
              "1000"
            ]
          },
          "metadata": {},
          "execution_count": 78
        }
      ],
      "source": [
        "import pandas as pd\n",
        "from bs4 import BeautifulSoup as soup\n",
        "df = pd.read_fwf('/content/output.txt', header=None)\n",
        "len(df)"
      ]
    },
    {
      "cell_type": "code",
      "execution_count": 79,
      "metadata": {
        "id": "OOSgQy9uAbwn"
      },
      "outputs": [],
      "source": [
        "tp = 0\n",
        "fp = 0\n",
        "fn = 0\n",
        "n_correct = 0\n",
        "n_incorrect = 0\n",
        "\n",
        "for s in prepared_sentences[-2176:]:\n",
        "    prediction = tagger.tag(create_sentence_features(s))\n",
        "    correct = create_sentence_labels(s)\n",
        "    zipped = list(zip(prediction, correct))\n",
        "    tp +=        len([_ for l, c in zipped if l == c and l == \"1\"])\n",
        "    fp +=        len([_ for l, c in zipped if l == \"1\" and c == \"0\"])\n",
        "    fn +=        len([_ for l, c in zipped if l == \"0\" and c == \"1\"])\n",
        "    n_incorrect += len([_ for l, c in zipped if l != c])\n",
        "    n_correct   += len([_ for l, c in zipped if l == c])"
      ]
    },
    {
      "cell_type": "code",
      "execution_count": 80,
      "metadata": {
        "colab": {
          "base_uri": "https://localhost:8080/"
        },
        "id": "0EBGukDsBG0v",
        "outputId": "030f8998-981f-40e4-fddc-60fd624defba"
      },
      "outputs": [
        {
          "output_type": "stream",
          "name": "stdout",
          "text": [
            "Precision:\t0.9592365822714987\n",
            "Recall:\t\t0.9540267719991222\n",
            "Accuracy:\t0.9799878175680821\n"
          ]
        }
      ],
      "source": [
        "print(\"Precision:\\t\" + str(tp/(tp+fp)))\n",
        "print(\"Recall:\\t\\t\" + str(tp/(tp+fn)))\n",
        "print(\"Accuracy:\\t\" + str(n_correct/(n_correct+n_incorrect)))"
      ]
    },
    {
      "cell_type": "code",
      "execution_count": null,
      "metadata": {
        "id": "OH8vFUuQBIR4"
      },
      "outputs": [],
      "source": [
        ""
      ]
    },
    {
      "cell_type": "markdown",
      "metadata": {
        "id": "Rz3Z8Zv-BTus"
      },
      "source": [
        "<ul>\n",
        "<li>'c1': 1.0, \n",
        "<li>'c2': 1e-3,\n",
        "<li>'max_iterations': 100,\n",
        "\n",
        "<li>Precision:\t0.959476619002926\n",
        "<li>Recall:\t\t0.9534233048057933\n",
        "<li>Accuracy:\t0.9799116773685947\n",
        "</ul>\n",
        "\n",
        "<ul>\n",
        "<li>'c1': 1.0, \n",
        "<li>'c2': 1e-3,\n",
        "<li>'max_iterations': 50,\n",
        "<li>Precision:\t0.9594102054340623\n",
        "<li>Recall:\t\t0.9530941408821593\n",
        "<li>Accuracy:\t0.9798228471358595\n",
        "</ul>\n",
        "\n",
        "- max iter 300\n",
        "- Precision:\t0.9593931034482759\n",
        "- Recall:\t\t0.9539719113451832\n",
        "- Accuracy:\t0.9800131976345778\n"
      ]
    },
    {
      "cell_type": "code",
      "execution_count": null,
      "metadata": {
        "id": "pH6YkjTBBUUd"
      },
      "outputs": [],
      "source": [
        ""
      ]
    }
  ],
  "metadata": {
    "colab": {
      "collapsed_sections": [],
      "name": "mm-word-seg-crf",
      "provenance": []
    },
    "gpuClass": "standard",
    "kernelspec": {
      "display_name": "Python 3",
      "name": "python3"
    },
    "language_info": {
      "name": "python"
    }
  },
  "nbformat": 4,
  "nbformat_minor": 0
}